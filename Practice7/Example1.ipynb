{
 "cells": [
  {
   "cell_type": "markdown",
   "id": "71ec8c2a",
   "metadata": {},
   "source": [
    "# This is a story\n"
   ]
  },
  {
   "cell_type": "markdown",
   "id": "95754af1",
   "metadata": {},
   "source": [
    "$x = 2$"
   ]
  },
  {
   "cell_type": "markdown",
   "id": "7af5aba8",
   "metadata": {},
   "source": [
    "$y = 5$"
   ]
  },
  {
   "cell_type": "markdown",
   "id": "a040f570",
   "metadata": {},
   "source": [
    "$z = x*y$"
   ]
  },
  {
   "cell_type": "code",
   "execution_count": 1,
   "id": "f9beb2bb",
   "metadata": {},
   "outputs": [
    {
     "name": "stdout",
     "output_type": "stream",
     "text": [
      "10\n"
     ]
    }
   ],
   "source": [
    "x=2\n",
    "y=5\n",
    "z=x*y\n",
    "print(z)"
   ]
  },
  {
   "cell_type": "code",
   "execution_count": 2,
   "id": "a4df7330",
   "metadata": {},
   "outputs": [],
   "source": [
    "grades = [10,10,9,8,5,7,7,5,10]\n"
   ]
  },
  {
   "cell_type": "code",
   "execution_count": 3,
   "id": "07c98c77",
   "metadata": {},
   "outputs": [
    {
     "data": {
      "text/plain": [
       "[10, 10, 9, 8, 5, 7, 7, 5, 10]"
      ]
     },
     "execution_count": 3,
     "metadata": {},
     "output_type": "execute_result"
    }
   ],
   "source": [
    "grades\n"
   ]
  },
  {
   "cell_type": "code",
   "execution_count": 4,
   "id": "d596b103",
   "metadata": {},
   "outputs": [
    {
     "data": {
      "text/plain": [
       "71"
      ]
     },
     "execution_count": 4,
     "metadata": {},
     "output_type": "execute_result"
    }
   ],
   "source": [
    "sum(grades)"
   ]
  },
  {
   "cell_type": "code",
   "execution_count": 5,
   "id": "b71b33b8",
   "metadata": {},
   "outputs": [
    {
     "data": {
      "text/plain": [
       "7.888888888888889"
      ]
     },
     "execution_count": 5,
     "metadata": {},
     "output_type": "execute_result"
    }
   ],
   "source": [
    "sum(grades)/len(grades)"
   ]
  },
  {
   "cell_type": "code",
   "execution_count": 7,
   "id": "e0d98e37",
   "metadata": {},
   "outputs": [],
   "source": [
    "import math"
   ]
  },
  {
   "cell_type": "code",
   "execution_count": 8,
   "id": "e70bf0da",
   "metadata": {},
   "outputs": [],
   "source": [
    "mean = sum(grades)/len(grades)"
   ]
  },
  {
   "cell_type": "code",
   "execution_count": 9,
   "id": "86f5e537",
   "metadata": {},
   "outputs": [
    {
     "data": {
      "text/plain": [
       "7"
      ]
     },
     "execution_count": 9,
     "metadata": {},
     "output_type": "execute_result"
    }
   ],
   "source": [
    "math.floor(mean)"
   ]
  },
  {
   "cell_type": "code",
   "execution_count": 10,
   "id": "01a2c399",
   "metadata": {},
   "outputs": [
    {
     "data": {
      "text/plain": [
       "8"
      ]
     },
     "execution_count": 10,
     "metadata": {},
     "output_type": "execute_result"
    }
   ],
   "source": [
    "math.ceil(mean)"
   ]
  },
  {
   "cell_type": "code",
   "execution_count": 11,
   "id": "7b806a7f",
   "metadata": {},
   "outputs": [],
   "source": [
    "import matplotlib"
   ]
  },
  {
   "cell_type": "code",
   "execution_count": 12,
   "id": "32196cbe",
   "metadata": {},
   "outputs": [],
   "source": [
    "import matplotlib.pyplot"
   ]
  },
  {
   "cell_type": "code",
   "execution_count": 13,
   "id": "86c08ab8",
   "metadata": {},
   "outputs": [],
   "source": [
    "import matplotlib.pyplot as pl\n"
   ]
  },
  {
   "cell_type": "code",
   "execution_count": 14,
   "id": "6152f74a",
   "metadata": {},
   "outputs": [
    {
     "data": {
      "text/plain": [
       "(array([2., 0., 0., 0., 2., 0., 1., 0., 1., 3.]),\n",
       " array([ 5. ,  5.5,  6. ,  6.5,  7. ,  7.5,  8. ,  8.5,  9. ,  9.5, 10. ]),\n",
       " <BarContainer object of 10 artists>)"
      ]
     },
     "execution_count": 14,
     "metadata": {},
     "output_type": "execute_result"
    },
    {
     "data": {
      "image/png": "[encoded data removed]",
      "text/plain": [
       "<Figure size 640x480 with 1 Axes>"
      ]
     },
     "metadata": {},
     "output_type": "display_data"
    }
   ],
   "source": [
    "pl.hist(grades)"
   ]
  },
  {
   "cell_type": "code",
   "execution_count": null,
   "id": "bb4520b0",
   "metadata": {},
   "outputs": [],
   "source": []
  }
 ],
 "metadata": {
  "kernelspec": {
   "display_name": "Python 3 (ipykernel)",
   "language": "python",
   "name": "python3"
  },
  "language_info": {
   "codemirror_mode": {
    "name": "ipython",
    "version": 3
   },
   "file_extension": ".py",
   "mimetype": "text/x-python",
   "name": "python",
   "nbconvert_exporter": "python",
   "pygments_lexer": "ipython3",
   "version": "3.11.2"
  }
 },
 "nbformat": 4,
 "nbformat_minor": 5
}
